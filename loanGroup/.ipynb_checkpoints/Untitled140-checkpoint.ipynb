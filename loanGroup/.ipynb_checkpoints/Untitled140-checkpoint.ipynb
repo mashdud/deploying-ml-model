{
 "cells": [
  {
   "cell_type": "code",
   "execution_count": null,
   "id": "ee596c10",
   "metadata": {},
   "outputs": [],
   "source": [
    "import pymysql"
   ]
  },
  {
   "cell_type": "code",
   "execution_count": null,
   "id": "1380a334",
   "metadata": {},
   "outputs": [],
   "source": [
    "connection = pymysql.connect(host='localhost',\n",
    "                             user='root',\n",
    "                             password='4895',\n",
    "                             db='examination')"
   ]
  },
  {
   "cell_type": "code",
   "execution_count": null,
   "id": "d53ae847",
   "metadata": {},
   "outputs": [],
   "source": [
    "cursor = connection.cursor()"
   ]
  },
  {
   "cell_type": "code",
   "execution_count": null,
   "id": "cafddba9",
   "metadata": {},
   "outputs": [],
   "source": []
  },
  {
   "cell_type": "code",
   "execution_count": null,
   "id": "682ccb36",
   "metadata": {},
   "outputs": [],
   "source": [
    "import pandas as pd\n",
    "\n",
    "from sqlalchemy import create_engine\n",
    "from sqlalchemy.ext.declarative import declarative_base\n",
    "from sqlalchemy.orm import sessionmaker\n",
    "from sqlalchemy import MetaData\n",
    "\n",
    "from evidently.dashboard import Dashboard\n",
    "from evidently.tabs import DataDriftTab"
   ]
  },
  {
   "cell_type": "code",
   "execution_count": null,
   "id": "ab91722c",
   "metadata": {},
   "outputs": [],
   "source": [
    "db_host = \"localhost\"\n",
    "db_name = \"Loan\"\n",
    "db_pass = \"4895\"\n",
    "db_user = \"postgres\"\n",
    "\n",
    "engine = create_engine(f\"postgresql://{db_user}:{db_pass}@{db_host}/{db_name}\")\n",
    "Base = declarative_base()\n",
    "metadata = MetaData(engine)\n",
    "\n",
    "Session = sessionmaker(bind=engine)\n",
    "session = Session()"
   ]
  },
  {
   "cell_type": "code",
   "execution_count": null,
   "id": "33062b93",
   "metadata": {},
   "outputs": [],
   "source": []
  }
 ],
 "metadata": {
  "kernelspec": {
   "display_name": "Python 3 (ipykernel)",
   "language": "python",
   "name": "python3"
  },
  "language_info": {
   "codemirror_mode": {
    "name": "ipython",
    "version": 3
   },
   "file_extension": ".py",
   "mimetype": "text/x-python",
   "name": "python",
   "nbconvert_exporter": "python",
   "pygments_lexer": "ipython3",
   "version": "3.9.7"
  }
 },
 "nbformat": 4,
 "nbformat_minor": 5
}
